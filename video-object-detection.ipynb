{
  "nbformat": 4,
  "nbformat_minor": 0,
  "metadata": {
    "colab": {
      "provenance": [],
      "authorship_tag": "ABX9TyNPjvzlY0+3CImFOUzAjkRZ",
      "include_colab_link": true
    },
    "kernelspec": {
      "name": "python3",
      "display_name": "Python 3"
    },
    "language_info": {
      "name": "python"
    }
  },
  "cells": [
    {
      "cell_type": "markdown",
      "metadata": {
        "id": "view-in-github",
        "colab_type": "text"
      },
      "source": [
        "<a href=\"https://colab.research.google.com/github/Sohyla03Said/feature-extraction-and-matching/blob/main/video-object-detection.ipynb\" target=\"_parent\"><img src=\"https://colab.research.google.com/assets/colab-badge.svg\" alt=\"Open In Colab\"/></a>"
      ]
    },
    {
      "cell_type": "code",
      "execution_count": 3,
      "metadata": {
        "colab": {
          "base_uri": "https://localhost:8080/"
        },
        "id": "3Dgmj_8cQa_a",
        "outputId": "695ca72e-9a5a-4fff-e557-dc8d440f9a4d"
      },
      "outputs": [
        {
          "output_type": "stream",
          "name": "stdout",
          "text": [
            "Requirement already satisfied: opencv-python-headless in /usr/local/lib/python3.11/dist-packages (4.11.0.86)\n",
            "Requirement already satisfied: numpy>=1.21.2 in /usr/local/lib/python3.11/dist-packages (from opencv-python-headless) (2.0.2)\n",
            "✅ Done! Annotated video saved at: /content/output_video.mp4\n"
          ]
        }
      ],
      "source": [
        "!pip install opencv-python-headless\n",
        "\n",
        "import cv2\n",
        "import numpy as np\n",
        "\n",
        "query_path = '/content/Screenshot 2025-04-19 202346.png'     # Object image\n",
        "video_path = '/content/Vegetables Vocabulary Chant for Children _ Fun Kids English.mp4'     # Input video\n",
        "output_path = '/content/output_video.mp4'  # Path to save output\n",
        "\n",
        "# Load the query image\n",
        "query_img_gray = cv2.imread(query_path, cv2.IMREAD_GRAYSCALE)\n",
        "if query_img_gray is None:\n",
        "    raise FileNotFoundError(f\"Query image not found at {query_path}\")\n",
        "h_query, w_query = query_img_gray.shape\n",
        "\n",
        "#  Initialize SIFT and feature matcher\n",
        "sift = cv2.SIFT_create()\n",
        "kp_query, des_query = sift.detectAndCompute(query_img_gray, None)\n",
        "\n",
        "FLANN_INDEX_KDTREE = 1\n",
        "index_params = dict(algorithm=FLANN_INDEX_KDTREE, trees=5)\n",
        "search_params = dict(checks=50)\n",
        "flann = cv2.FlannBasedMatcher(index_params, search_params)\n",
        "\n",
        "# Open the video\n",
        "cap = cv2.VideoCapture(video_path)\n",
        "if not cap.isOpened():\n",
        "    raise FileNotFoundError(f\"Video not found or cannot be opened: {video_path}\")\n",
        "\n",
        "# Video properties\n",
        "fps = cap.get(cv2.CAP_PROP_FPS)\n",
        "width  = int(cap.get(cv2.CAP_PROP_FRAME_WIDTH))\n",
        "height = int(cap.get(cv2.CAP_PROP_FRAME_HEIGHT))\n",
        "\n",
        "# Set up video writer to save output\n",
        "fourcc = cv2.VideoWriter_fourcc(*'mp4v')\n",
        "out = cv2.VideoWriter(output_path, fourcc, fps, (width, height))\n",
        "\n",
        "# Process video frame by frame\n",
        "while cap.isOpened():\n",
        "    ret, frame = cap.read()\n",
        "    if not ret:\n",
        "        break\n",
        "\n",
        "    frame_gray = cv2.cvtColor(frame, cv2.COLOR_BGR2GRAY)\n",
        "    kp_frame, des_frame = sift.detectAndCompute(frame_gray, None)\n",
        "\n",
        "    if des_frame is not None and des_query is not None and len(des_frame) >= 2 and len(des_query) >= 2:\n",
        "        matches = flann.knnMatch(des_query, des_frame, k=2)\n",
        "\n",
        "        # Apply Lowe's ratio test\n",
        "        good_matches = []\n",
        "        for m, n in matches:\n",
        "            if m.distance < 0.7 * n.distance:\n",
        "                good_matches.append(m)\n",
        "\n",
        "        if len(good_matches) > 10:\n",
        "            src_pts = np.float32([kp_query[m.queryIdx].pt for m in good_matches]).reshape(-1, 1, 2)\n",
        "            dst_pts = np.float32([kp_frame[m.trainIdx].pt for m in good_matches]).reshape(-1, 1, 2)\n",
        "\n",
        "            M, mask = cv2.findHomography(src_pts, dst_pts, cv2.RANSAC, 5.0)\n",
        "\n",
        "            if M is not None:\n",
        "                corners = np.float32([[0, 0], [0, h_query], [w_query, h_query], [w_query, 0]]).reshape(-1, 1, 2)\n",
        "                transformed_corners = cv2.perspectiveTransform(corners, M)\n",
        "                cv2.polylines(frame, [np.int32(transformed_corners)], isClosed=True, color=(0, 255, 0), thickness=3)\n",
        "\n",
        "    # Save the frame\n",
        "    out.write(frame)\n",
        "\n",
        "# Release resources\n",
        "cap.release()\n",
        "out.release()\n",
        "\n",
        "print(\"✅ Done! Annotated video saved at:\", output_path)\n"
      ]
    }
  ]
}